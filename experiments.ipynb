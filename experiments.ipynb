{
 "cells": [
  {
   "cell_type": "code",
   "execution_count": 49,
   "metadata": {
    "collapsed": true,
    "deletable": true,
    "editable": true
   },
   "outputs": [],
   "source": [
    "import os\n",
    "import shutil\n",
    "import re"
   ]
  },
  {
   "cell_type": "code",
   "execution_count": 17,
   "metadata": {
    "collapsed": true,
    "deletable": true,
    "editable": true
   },
   "outputs": [],
   "source": [
    "VERBOSE = True"
   ]
  },
  {
   "cell_type": "code",
   "execution_count": 245,
   "metadata": {
    "collapsed": true,
    "deletable": true,
    "editable": true
   },
   "outputs": [],
   "source": [
    "def modernize(script, output='ps'):\n",
    "    modern = []\n",
    "    ps_name = None\n",
    "    \n",
    "    # Copy the header comments and add a command to set the mode \n",
    "    # to modern after the header\n",
    "    for l, line in enumerate(script):\n",
    "        line = line.strip()\n",
    "        if not line or line[0] != '#':\n",
    "            break\n",
    "        modern.append(line)\n",
    "    modern.append('gmt set GMT_RUNMODE modern')\n",
    "    \n",
    "    # Parse the rest of the script\n",
    "    for line in script[l:]:\n",
    "        line = line.strip()\n",
    "        \n",
    "        # Check if this line defines a .ps file name variable\n",
    "        ps_var_def = re.search(r'^ps=.+\\.ps$', line)\n",
    "        if ps_var_def is not None:\n",
    "            ps_definition = ps_var_def.group()\n",
    "            ps_file_name = ps_definition.split('=')[1]\n",
    "            ps_name = os.path.splitext(ps_file_name)[0]\n",
    "            line = os.path.splitext(ps_definition)[0]\n",
    "            \n",
    "        # Check if redirecting to the $ps variable and strip it out\n",
    "        redirect_to_ps = re.search(r'.+>+ *\\$ps$', line)\n",
    "        if redirect_to_ps is not None:\n",
    "            redirection = re.search(r'>+ *\\$ps$', line)\n",
    "            line = line.replace(redirection.group(), '').strip()\n",
    "            \n",
    "        # Remove -O -K -R -J\n",
    "        okrj = re.findall(r'(?<= )-[KORJ](?: +|$)', line)\n",
    "        if okrj:\n",
    "            for match in okrj:\n",
    "                line = line.replace(match, '')\n",
    "            line = line.strip()\n",
    "        \n",
    "        modern.append(line)\n",
    "        \n",
    "    # Only add a psconvert call if this script defined a ps variable\n",
    "    if ps_name is not None:\n",
    "        if output == 'ps':\n",
    "            args = '-Tp'\n",
    "        elif output == 'pdf':\n",
    "            args = '-Tf -P -A'\n",
    "        else:\n",
    "            assert False\n",
    "        modern.append('') \n",
    "        modern.append('gmt psconvert {} -F$ps'.format(args))\n",
    "        modern.append('')         \n",
    "        \n",
    "    return modern"
   ]
  },
  {
   "cell_type": "code",
   "execution_count": 246,
   "metadata": {
    "collapsed": true,
    "deletable": true,
    "editable": true
   },
   "outputs": [],
   "source": [
    "input_dir = 'test'\n",
    "output_dir = 'test_modern'"
   ]
  },
  {
   "cell_type": "code",
   "execution_count": 247,
   "metadata": {
    "collapsed": false,
    "deletable": true,
    "editable": true
   },
   "outputs": [
    {
     "name": "stdout",
     "output_type": "stream",
     "text": [
      "Aborting: Output directory already exists.\n"
     ]
    }
   ],
   "source": [
    "if os.path.exists(output_dir):\n",
    "    print('Aborting: Output directory already exists.')"
   ]
  },
  {
   "cell_type": "code",
   "execution_count": 248,
   "metadata": {
    "collapsed": true,
    "deletable": true,
    "editable": true
   },
   "outputs": [],
   "source": [
    "def info(*args, **kwargs):\n",
    "    \"\"\"\n",
    "    Print message to the screen according to set verbosity.\n",
    "    \"\"\"\n",
    "    if VERBOSE:\n",
    "        print(*args, **kwargs)"
   ]
  },
  {
   "cell_type": "code",
   "execution_count": 250,
   "metadata": {
    "collapsed": false,
    "deletable": true,
    "editable": true,
    "scrolled": true
   },
   "outputs": [
    {
     "name": "stdout",
     "output_type": "stream",
     "text": [
      "Base dir: test\n",
      "Base dir: test/grdcontour\n",
      "  Converting: test/grdcontour/polcont.sh  -->  test_modern/grdcontour/polcont.sh\n",
      "  Converting: test/grdcontour/polcontr.sh  -->  test_modern/grdcontour/polcontr.sh\n",
      "  Converting: test/grdcontour/grdcontour.sh  -->  test_modern/grdcontour/grdcontour.sh\n",
      "Base dir: test/psxy\n",
      "  Converting: test/psxy/wedges.sh  -->  test_modern/psxy/wedges.sh\n",
      "  Converting: test/psxy/plot_symbols.sh  -->  test_modern/psxy/plot_symbols.sh\n",
      "  Converting: test/psxy/vector.sh  -->  test_modern/psxy/vector.sh\n",
      "Base dir: test/deeper\n",
      "Base dir: test/deeper/pscoast\n",
      "  Converting: test/deeper/pscoast/pscoast_JE3.sh  -->  test_modern/deeper/pscoast/pscoast_JE3.sh\n",
      "  Converting: test/deeper/pscoast/pscoast_JM.sh  -->  test_modern/deeper/pscoast/pscoast_JM.sh\n"
     ]
    }
   ],
   "source": [
    "!rm -rf $output_dir\n",
    "\n",
    "for base, dirs, files in os.walk(input_dir):\n",
    "    info('Base dir:', base)\n",
    "    base_output = base.replace(input_dir, output_dir)\n",
    "    os.mkdir(base_output)\n",
    "    scripts = set(f for f in files if os.path.splitext(f)[-1] == '.sh')\n",
    "    not_scripts = set(files).difference(scripts)\n",
    "    for file in not_scripts:\n",
    "        shutil.copy(os.path.join(base, file), base_output)\n",
    "    for script in scripts:\n",
    "        modern_script = os.path.join(base_output, script)\n",
    "        old_script = os.path.join(base, script)\n",
    "        info('  Converting:', old_script, ' --> ', modern_script)\n",
    "        with open(old_script) as f:\n",
    "            old_content = f.readlines()\n",
    "        modern_content = modernize(old_content, output='ps')\n",
    "        with open(modern_script, 'w') as f:\n",
    "            f.write('\\n'.join(modern_content))"
   ]
  },
  {
   "cell_type": "code",
   "execution_count": 281,
   "metadata": {
    "collapsed": false,
    "deletable": true,
    "editable": true
   },
   "outputs": [
    {
     "data": {
      "text/plain": [
       "['-O ', '-K ', '-R ', '-J']"
      ]
     },
     "execution_count": 281,
     "metadata": {},
     "output_type": "execute_result"
    }
   ],
   "source": [
    "re.findall(r'(?:(?<= )|^)-[KORJ](?: +|$)', '-O -T+d0.1i/0.02i e-O -K -R -Rbla -J')"
   ]
  },
  {
   "cell_type": "code",
   "execution_count": null,
   "metadata": {
    "collapsed": true
   },
   "outputs": [],
   "source": []
  }
 ],
 "metadata": {
  "kernelspec": {
   "display_name": "Python 3",
   "language": "python",
   "name": "python3"
  },
  "language_info": {
   "codemirror_mode": {
    "name": "ipython",
    "version": 3
   },
   "file_extension": ".py",
   "mimetype": "text/x-python",
   "name": "python",
   "nbconvert_exporter": "python",
   "pygments_lexer": "ipython3",
   "version": "3.6.0"
  }
 },
 "nbformat": 4,
 "nbformat_minor": 2
}
